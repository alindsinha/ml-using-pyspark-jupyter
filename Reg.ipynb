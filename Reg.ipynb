{
 "cells": [
  {
   "cell_type": "code",
   "execution_count": 1,
   "id": "9bd6e99a-c626-4e5f-88d2-9e2ac0af3782",
   "metadata": {},
   "outputs": [
    {
     "name": "stdout",
     "output_type": "stream",
     "text": [
      "Requirement already satisfied: pyspark in ./.venv/lib/python3.9/site-packages (3.5.3)\n",
      "Requirement already satisfied: py4j==0.10.9.7 in ./.venv/lib/python3.9/site-packages (from pyspark) (0.10.9.7)\n",
      "\u001b[33mWARNING: You are using pip version 21.2.4; however, version 24.2 is available.\n",
      "You should consider upgrading via the '/Users/alindsplayground/PycharmProjects/SparkML/.venv/bin/python3 -m pip install --upgrade pip' command.\u001b[0m\n"
     ]
    }
   ],
   "source": [
    "!pip install pyspark"
   ]
  },
  {
   "cell_type": "code",
   "execution_count": null,
   "id": "21a14dea-dc47-4dc4-a10b-00ae15cc145e",
   "metadata": {},
   "outputs": [],
   "source": []
  },
  {
   "cell_type": "code",
   "execution_count": 2,
   "id": "eb83c7c3-9810-49c4-944a-1dd1b308a69d",
   "metadata": {},
   "outputs": [
    {
     "name": "stdout",
     "output_type": "stream",
     "text": [
      "/Library/Java/JavaVirtualMachines/temurin-21.jdk/Contents/Home\n"
     ]
    }
   ],
   "source": [
    "import os\n",
    "print(os.environ.get(\"JAVA_HOME\"))\n"
   ]
  },
  {
   "cell_type": "code",
   "execution_count": 3,
   "id": "3b943a0d-bb3b-4b69-a661-b20b0452c6b1",
   "metadata": {},
   "outputs": [
    {
     "name": "stderr",
     "output_type": "stream",
     "text": [
      "24/10/07 00:41:46 WARN Utils: Your hostname, Alinds-MacBook-Pro.local resolves to a loopback address: 127.0.0.1; using 192.168.40.35 instead (on interface en0)\n",
      "24/10/07 00:41:46 WARN Utils: Set SPARK_LOCAL_IP if you need to bind to another address\n",
      "Setting default log level to \"WARN\".\n",
      "To adjust logging level use sc.setLogLevel(newLevel). For SparkR, use setLogLevel(newLevel).\n",
      "24/10/07 00:41:47 WARN NativeCodeLoader: Unable to load native-hadoop library for your platform... using builtin-java classes where applicable\n"
     ]
    }
   ],
   "source": [
    "from pyspark.sql import SparkSession\n",
    "spark=SparkSession.builder\\\n",
    "        .master('local')\\\n",
    "        .appName(\"regression\")\\\n",
    "        .getOrCreate()"
   ]
  },
  {
   "cell_type": "code",
   "execution_count": 4,
   "id": "e184434d-99f5-4af8-9222-76d1c76be682",
   "metadata": {},
   "outputs": [
    {
     "data": {
      "text/html": [
       "\n",
       "            <div>\n",
       "                <p><b>SparkSession - in-memory</b></p>\n",
       "                \n",
       "        <div>\n",
       "            <p><b>SparkContext</b></p>\n",
       "\n",
       "            <p><a href=\"http://192.168.40.35:4040\">Spark UI</a></p>\n",
       "\n",
       "            <dl>\n",
       "              <dt>Version</dt>\n",
       "                <dd><code>v3.5.3</code></dd>\n",
       "              <dt>Master</dt>\n",
       "                <dd><code>local</code></dd>\n",
       "              <dt>AppName</dt>\n",
       "                <dd><code>regression</code></dd>\n",
       "            </dl>\n",
       "        </div>\n",
       "        \n",
       "            </div>\n",
       "        "
      ],
      "text/plain": [
       "<pyspark.sql.session.SparkSession at 0x111f718e0>"
      ]
     },
     "execution_count": 4,
     "metadata": {},
     "output_type": "execute_result"
    }
   ],
   "source": [
    "spark"
   ]
  },
  {
   "cell_type": "code",
   "execution_count": 5,
   "id": "78ca5265-d7fa-4865-86e6-f20ffc5c5a2f",
   "metadata": {},
   "outputs": [
    {
     "name": "stdout",
     "output_type": "stream",
     "text": [
      "/Users/alindsplayground/PycharmProjects/SparkML\n"
     ]
    }
   ],
   "source": [
    "!pwd\n",
    "df=spark.read.format(\"csv\").load(\"/Users/alindsplayground/PycharmProjects/SparkML/.venv/data/housing.csv\",header=True,inferSchema=True)"
   ]
  },
  {
   "cell_type": "code",
   "execution_count": 6,
   "id": "7fb56cb0-5b86-4095-932b-07e64337e4bd",
   "metadata": {},
   "outputs": [
    {
     "name": "stdout",
     "output_type": "stream",
     "text": [
      "root\n",
      " |-- longitude: double (nullable = true)\n",
      " |-- latitude: double (nullable = true)\n",
      " |-- housing_median_age: double (nullable = true)\n",
      " |-- total_rooms: double (nullable = true)\n",
      " |-- total_bedrooms: double (nullable = true)\n",
      " |-- population: double (nullable = true)\n",
      " |-- households: double (nullable = true)\n",
      " |-- median_income: double (nullable = true)\n",
      " |-- median_house_value: double (nullable = true)\n",
      " |-- ocean_proximity: string (nullable = true)\n",
      "\n"
     ]
    }
   ],
   "source": [
    "df.printSchema()"
   ]
  },
  {
   "cell_type": "code",
   "execution_count": 7,
   "id": "3ebc5683-c421-4ed4-8967-98919ef22179",
   "metadata": {},
   "outputs": [
    {
     "name": "stdout",
     "output_type": "stream",
     "text": [
      "+---------+--------+------------------+-----------+--------------+----------+----------+-------------+------------------+---------------+\n",
      "|longitude|latitude|housing_median_age|total_rooms|total_bedrooms|population|households|median_income|median_house_value|ocean_proximity|\n",
      "+---------+--------+------------------+-----------+--------------+----------+----------+-------------+------------------+---------------+\n",
      "|  -122.23|   37.88|              41.0|      880.0|         129.0|     322.0|     126.0|       8.3252|          452600.0|       NEAR BAY|\n",
      "|  -122.22|   37.86|              21.0|     7099.0|        1106.0|    2401.0|    1138.0|       8.3014|          358500.0|       NEAR BAY|\n",
      "|  -122.24|   37.85|              52.0|     1467.0|         190.0|     496.0|     177.0|       7.2574|          352100.0|       NEAR BAY|\n",
      "|  -122.25|   37.85|              52.0|     1274.0|         235.0|     558.0|     219.0|       5.6431|          341300.0|       NEAR BAY|\n",
      "|  -122.25|   37.85|              52.0|     1627.0|         280.0|     565.0|     259.0|       3.8462|          342200.0|       NEAR BAY|\n",
      "+---------+--------+------------------+-----------+--------------+----------+----------+-------------+------------------+---------------+\n",
      "only showing top 5 rows\n",
      "\n"
     ]
    }
   ],
   "source": [
    "df.show(5)"
   ]
  },
  {
   "cell_type": "code",
   "execution_count": 8,
   "id": "76805e2b-66d0-402f-abc2-8849a02ef28f",
   "metadata": {},
   "outputs": [
    {
     "name": "stdout",
     "output_type": "stream",
     "text": [
      "Requirement already satisfied: jupyter-tabnine in ./.venv/lib/python3.9/site-packages (1.2.3)\n",
      "Requirement already satisfied: jupyter-core in ./.venv/lib/python3.9/site-packages (from jupyter-tabnine) (5.7.2)\n",
      "Requirement already satisfied: notebook>=4.2 in ./.venv/lib/python3.9/site-packages (from jupyter-tabnine) (7.2.2)\n",
      "Requirement already satisfied: ipython in ./.venv/lib/python3.9/site-packages (from jupyter-tabnine) (8.18.1)\n",
      "Requirement already satisfied: nbconvert in ./.venv/lib/python3.9/site-packages (from jupyter-tabnine) (7.16.4)\n",
      "Requirement already satisfied: jupyter-server<3,>=2.4.0 in ./.venv/lib/python3.9/site-packages (from notebook>=4.2->jupyter-tabnine) (2.14.2)\n",
      "Requirement already satisfied: jupyterlab-server<3,>=2.27.1 in ./.venv/lib/python3.9/site-packages (from notebook>=4.2->jupyter-tabnine) (2.27.3)\n",
      "Requirement already satisfied: notebook-shim<0.3,>=0.2 in ./.venv/lib/python3.9/site-packages (from notebook>=4.2->jupyter-tabnine) (0.2.4)\n",
      "Requirement already satisfied: jupyterlab<4.3,>=4.2.0 in ./.venv/lib/python3.9/site-packages (from notebook>=4.2->jupyter-tabnine) (4.2.5)\n",
      "Requirement already satisfied: tornado>=6.2.0 in ./.venv/lib/python3.9/site-packages (from notebook>=4.2->jupyter-tabnine) (6.4.1)\n",
      "Requirement already satisfied: terminado>=0.8.3 in ./.venv/lib/python3.9/site-packages (from jupyter-server<3,>=2.4.0->notebook>=4.2->jupyter-tabnine) (0.18.1)\n",
      "Requirement already satisfied: jupyter-server-terminals>=0.4.4 in ./.venv/lib/python3.9/site-packages (from jupyter-server<3,>=2.4.0->notebook>=4.2->jupyter-tabnine) (0.5.3)\n",
      "Requirement already satisfied: overrides>=5.0 in ./.venv/lib/python3.9/site-packages (from jupyter-server<3,>=2.4.0->notebook>=4.2->jupyter-tabnine) (7.7.0)\n",
      "Requirement already satisfied: traitlets>=5.6.0 in ./.venv/lib/python3.9/site-packages (from jupyter-server<3,>=2.4.0->notebook>=4.2->jupyter-tabnine) (5.14.3)\n",
      "Requirement already satisfied: argon2-cffi>=21.1 in ./.venv/lib/python3.9/site-packages (from jupyter-server<3,>=2.4.0->notebook>=4.2->jupyter-tabnine) (23.1.0)\n",
      "Requirement already satisfied: pyzmq>=24 in ./.venv/lib/python3.9/site-packages (from jupyter-server<3,>=2.4.0->notebook>=4.2->jupyter-tabnine) (26.2.0)\n",
      "Requirement already satisfied: packaging>=22.0 in ./.venv/lib/python3.9/site-packages (from jupyter-server<3,>=2.4.0->notebook>=4.2->jupyter-tabnine) (24.1)\n",
      "Requirement already satisfied: jupyter-events>=0.9.0 in ./.venv/lib/python3.9/site-packages (from jupyter-server<3,>=2.4.0->notebook>=4.2->jupyter-tabnine) (0.10.0)\n",
      "Requirement already satisfied: jinja2>=3.0.3 in ./.venv/lib/python3.9/site-packages (from jupyter-server<3,>=2.4.0->notebook>=4.2->jupyter-tabnine) (3.1.4)\n",
      "Requirement already satisfied: nbformat>=5.3.0 in ./.venv/lib/python3.9/site-packages (from jupyter-server<3,>=2.4.0->notebook>=4.2->jupyter-tabnine) (5.10.4)\n",
      "Requirement already satisfied: websocket-client>=1.7 in ./.venv/lib/python3.9/site-packages (from jupyter-server<3,>=2.4.0->notebook>=4.2->jupyter-tabnine) (1.8.0)\n",
      "Requirement already satisfied: anyio>=3.1.0 in ./.venv/lib/python3.9/site-packages (from jupyter-server<3,>=2.4.0->notebook>=4.2->jupyter-tabnine) (4.6.0)\n",
      "Requirement already satisfied: prometheus-client>=0.9 in ./.venv/lib/python3.9/site-packages (from jupyter-server<3,>=2.4.0->notebook>=4.2->jupyter-tabnine) (0.21.0)\n",
      "Requirement already satisfied: jupyter-client>=7.4.4 in ./.venv/lib/python3.9/site-packages (from jupyter-server<3,>=2.4.0->notebook>=4.2->jupyter-tabnine) (8.6.3)\n",
      "Requirement already satisfied: send2trash>=1.8.2 in ./.venv/lib/python3.9/site-packages (from jupyter-server<3,>=2.4.0->notebook>=4.2->jupyter-tabnine) (1.8.3)\n",
      "Requirement already satisfied: exceptiongroup>=1.0.2 in ./.venv/lib/python3.9/site-packages (from anyio>=3.1.0->jupyter-server<3,>=2.4.0->notebook>=4.2->jupyter-tabnine) (1.2.2)\n",
      "Requirement already satisfied: idna>=2.8 in ./.venv/lib/python3.9/site-packages (from anyio>=3.1.0->jupyter-server<3,>=2.4.0->notebook>=4.2->jupyter-tabnine) (3.10)\n",
      "Requirement already satisfied: sniffio>=1.1 in ./.venv/lib/python3.9/site-packages (from anyio>=3.1.0->jupyter-server<3,>=2.4.0->notebook>=4.2->jupyter-tabnine) (1.3.1)\n",
      "Requirement already satisfied: typing-extensions>=4.1 in ./.venv/lib/python3.9/site-packages (from anyio>=3.1.0->jupyter-server<3,>=2.4.0->notebook>=4.2->jupyter-tabnine) (4.12.2)\n",
      "Requirement already satisfied: argon2-cffi-bindings in ./.venv/lib/python3.9/site-packages (from argon2-cffi>=21.1->jupyter-server<3,>=2.4.0->notebook>=4.2->jupyter-tabnine) (21.2.0)\n",
      "Requirement already satisfied: MarkupSafe>=2.0 in ./.venv/lib/python3.9/site-packages (from jinja2>=3.0.3->jupyter-server<3,>=2.4.0->notebook>=4.2->jupyter-tabnine) (2.1.5)\n",
      "Requirement already satisfied: python-dateutil>=2.8.2 in ./.venv/lib/python3.9/site-packages (from jupyter-client>=7.4.4->jupyter-server<3,>=2.4.0->notebook>=4.2->jupyter-tabnine) (2.9.0.post0)\n",
      "Requirement already satisfied: importlib-metadata>=4.8.3 in ./.venv/lib/python3.9/site-packages (from jupyter-client>=7.4.4->jupyter-server<3,>=2.4.0->notebook>=4.2->jupyter-tabnine) (8.5.0)\n",
      "Requirement already satisfied: zipp>=3.20 in ./.venv/lib/python3.9/site-packages (from importlib-metadata>=4.8.3->jupyter-client>=7.4.4->jupyter-server<3,>=2.4.0->notebook>=4.2->jupyter-tabnine) (3.20.2)\n",
      "Requirement already satisfied: platformdirs>=2.5 in ./.venv/lib/python3.9/site-packages (from jupyter-core->jupyter-tabnine) (4.3.6)\n",
      "Requirement already satisfied: referencing in ./.venv/lib/python3.9/site-packages (from jupyter-events>=0.9.0->jupyter-server<3,>=2.4.0->notebook>=4.2->jupyter-tabnine) (0.35.1)\n",
      "Requirement already satisfied: pyyaml>=5.3 in ./.venv/lib/python3.9/site-packages (from jupyter-events>=0.9.0->jupyter-server<3,>=2.4.0->notebook>=4.2->jupyter-tabnine) (6.0.2)\n",
      "Requirement already satisfied: jsonschema[format-nongpl]>=4.18.0 in ./.venv/lib/python3.9/site-packages (from jupyter-events>=0.9.0->jupyter-server<3,>=2.4.0->notebook>=4.2->jupyter-tabnine) (4.23.0)\n",
      "Requirement already satisfied: rfc3339-validator in ./.venv/lib/python3.9/site-packages (from jupyter-events>=0.9.0->jupyter-server<3,>=2.4.0->notebook>=4.2->jupyter-tabnine) (0.1.4)\n",
      "Requirement already satisfied: rfc3986-validator>=0.1.1 in ./.venv/lib/python3.9/site-packages (from jupyter-events>=0.9.0->jupyter-server<3,>=2.4.0->notebook>=4.2->jupyter-tabnine) (0.1.1)\n",
      "Requirement already satisfied: python-json-logger>=2.0.4 in ./.venv/lib/python3.9/site-packages (from jupyter-events>=0.9.0->jupyter-server<3,>=2.4.0->notebook>=4.2->jupyter-tabnine) (2.0.7)\n",
      "Requirement already satisfied: rpds-py>=0.7.1 in ./.venv/lib/python3.9/site-packages (from jsonschema[format-nongpl]>=4.18.0->jupyter-events>=0.9.0->jupyter-server<3,>=2.4.0->notebook>=4.2->jupyter-tabnine) (0.20.0)\n",
      "Requirement already satisfied: attrs>=22.2.0 in ./.venv/lib/python3.9/site-packages (from jsonschema[format-nongpl]>=4.18.0->jupyter-events>=0.9.0->jupyter-server<3,>=2.4.0->notebook>=4.2->jupyter-tabnine) (24.2.0)\n",
      "Requirement already satisfied: jsonschema-specifications>=2023.03.6 in ./.venv/lib/python3.9/site-packages (from jsonschema[format-nongpl]>=4.18.0->jupyter-events>=0.9.0->jupyter-server<3,>=2.4.0->notebook>=4.2->jupyter-tabnine) (2023.12.1)\n",
      "Requirement already satisfied: jsonpointer>1.13 in ./.venv/lib/python3.9/site-packages (from jsonschema[format-nongpl]>=4.18.0->jupyter-events>=0.9.0->jupyter-server<3,>=2.4.0->notebook>=4.2->jupyter-tabnine) (3.0.0)\n",
      "Requirement already satisfied: isoduration in ./.venv/lib/python3.9/site-packages (from jsonschema[format-nongpl]>=4.18.0->jupyter-events>=0.9.0->jupyter-server<3,>=2.4.0->notebook>=4.2->jupyter-tabnine) (20.11.0)\n",
      "Requirement already satisfied: fqdn in ./.venv/lib/python3.9/site-packages (from jsonschema[format-nongpl]>=4.18.0->jupyter-events>=0.9.0->jupyter-server<3,>=2.4.0->notebook>=4.2->jupyter-tabnine) (1.5.1)\n",
      "Requirement already satisfied: webcolors>=24.6.0 in ./.venv/lib/python3.9/site-packages (from jsonschema[format-nongpl]>=4.18.0->jupyter-events>=0.9.0->jupyter-server<3,>=2.4.0->notebook>=4.2->jupyter-tabnine) (24.8.0)\n",
      "Requirement already satisfied: uri-template in ./.venv/lib/python3.9/site-packages (from jsonschema[format-nongpl]>=4.18.0->jupyter-events>=0.9.0->jupyter-server<3,>=2.4.0->notebook>=4.2->jupyter-tabnine) (1.3.0)\n",
      "Requirement already satisfied: ipykernel>=6.5.0 in ./.venv/lib/python3.9/site-packages (from jupyterlab<4.3,>=4.2.0->notebook>=4.2->jupyter-tabnine) (6.29.5)\n",
      "Requirement already satisfied: async-lru>=1.0.0 in ./.venv/lib/python3.9/site-packages (from jupyterlab<4.3,>=4.2.0->notebook>=4.2->jupyter-tabnine) (2.0.4)\n",
      "Requirement already satisfied: setuptools>=40.1.0 in ./.venv/lib/python3.9/site-packages (from jupyterlab<4.3,>=4.2.0->notebook>=4.2->jupyter-tabnine) (58.0.4)\n",
      "Requirement already satisfied: jupyter-lsp>=2.0.0 in ./.venv/lib/python3.9/site-packages (from jupyterlab<4.3,>=4.2.0->notebook>=4.2->jupyter-tabnine) (2.2.5)\n",
      "Requirement already satisfied: tomli>=1.2.2 in ./.venv/lib/python3.9/site-packages (from jupyterlab<4.3,>=4.2.0->notebook>=4.2->jupyter-tabnine) (2.0.2)\n",
      "Requirement already satisfied: httpx>=0.25.0 in ./.venv/lib/python3.9/site-packages (from jupyterlab<4.3,>=4.2.0->notebook>=4.2->jupyter-tabnine) (0.27.2)\n",
      "Requirement already satisfied: httpcore==1.* in ./.venv/lib/python3.9/site-packages (from httpx>=0.25.0->jupyterlab<4.3,>=4.2.0->notebook>=4.2->jupyter-tabnine) (1.0.6)\n",
      "Requirement already satisfied: certifi in ./.venv/lib/python3.9/site-packages (from httpx>=0.25.0->jupyterlab<4.3,>=4.2.0->notebook>=4.2->jupyter-tabnine) (2024.8.30)\n",
      "Requirement already satisfied: h11<0.15,>=0.13 in ./.venv/lib/python3.9/site-packages (from httpcore==1.*->httpx>=0.25.0->jupyterlab<4.3,>=4.2.0->notebook>=4.2->jupyter-tabnine) (0.14.0)\n",
      "Requirement already satisfied: nest-asyncio in ./.venv/lib/python3.9/site-packages (from ipykernel>=6.5.0->jupyterlab<4.3,>=4.2.0->notebook>=4.2->jupyter-tabnine) (1.6.0)\n",
      "Requirement already satisfied: comm>=0.1.1 in ./.venv/lib/python3.9/site-packages (from ipykernel>=6.5.0->jupyterlab<4.3,>=4.2.0->notebook>=4.2->jupyter-tabnine) (0.2.2)\n",
      "Requirement already satisfied: debugpy>=1.6.5 in ./.venv/lib/python3.9/site-packages (from ipykernel>=6.5.0->jupyterlab<4.3,>=4.2.0->notebook>=4.2->jupyter-tabnine) (1.8.6)\n",
      "Requirement already satisfied: appnope in ./.venv/lib/python3.9/site-packages (from ipykernel>=6.5.0->jupyterlab<4.3,>=4.2.0->notebook>=4.2->jupyter-tabnine) (0.1.4)\n",
      "Requirement already satisfied: matplotlib-inline>=0.1 in ./.venv/lib/python3.9/site-packages (from ipykernel>=6.5.0->jupyterlab<4.3,>=4.2.0->notebook>=4.2->jupyter-tabnine) (0.1.7)\n",
      "Requirement already satisfied: psutil in ./.venv/lib/python3.9/site-packages (from ipykernel>=6.5.0->jupyterlab<4.3,>=4.2.0->notebook>=4.2->jupyter-tabnine) (6.0.0)\n",
      "Requirement already satisfied: stack-data in ./.venv/lib/python3.9/site-packages (from ipython->jupyter-tabnine) (0.6.3)\n",
      "Requirement already satisfied: pexpect>4.3 in ./.venv/lib/python3.9/site-packages (from ipython->jupyter-tabnine) (4.9.0)\n",
      "Requirement already satisfied: prompt-toolkit<3.1.0,>=3.0.41 in ./.venv/lib/python3.9/site-packages (from ipython->jupyter-tabnine) (3.0.48)\n",
      "Requirement already satisfied: pygments>=2.4.0 in ./.venv/lib/python3.9/site-packages (from ipython->jupyter-tabnine) (2.18.0)\n",
      "Requirement already satisfied: decorator in ./.venv/lib/python3.9/site-packages (from ipython->jupyter-tabnine) (5.1.1)\n",
      "Requirement already satisfied: jedi>=0.16 in ./.venv/lib/python3.9/site-packages (from ipython->jupyter-tabnine) (0.19.1)\n",
      "Requirement already satisfied: parso<0.9.0,>=0.8.3 in ./.venv/lib/python3.9/site-packages (from jedi>=0.16->ipython->jupyter-tabnine) (0.8.4)\n",
      "Requirement already satisfied: babel>=2.10 in ./.venv/lib/python3.9/site-packages (from jupyterlab-server<3,>=2.27.1->notebook>=4.2->jupyter-tabnine) (2.16.0)\n",
      "Requirement already satisfied: json5>=0.9.0 in ./.venv/lib/python3.9/site-packages (from jupyterlab-server<3,>=2.27.1->notebook>=4.2->jupyter-tabnine) (0.9.25)\n",
      "Requirement already satisfied: requests>=2.31 in ./.venv/lib/python3.9/site-packages (from jupyterlab-server<3,>=2.27.1->notebook>=4.2->jupyter-tabnine) (2.32.3)\n",
      "Requirement already satisfied: bleach!=5.0.0 in ./.venv/lib/python3.9/site-packages (from nbconvert->jupyter-tabnine) (6.1.0)\n",
      "Requirement already satisfied: mistune<4,>=2.0.3 in ./.venv/lib/python3.9/site-packages (from nbconvert->jupyter-tabnine) (3.0.2)\n",
      "Requirement already satisfied: nbclient>=0.5.0 in ./.venv/lib/python3.9/site-packages (from nbconvert->jupyter-tabnine) (0.10.0)\n",
      "Requirement already satisfied: pandocfilters>=1.4.1 in ./.venv/lib/python3.9/site-packages (from nbconvert->jupyter-tabnine) (1.5.1)\n",
      "Requirement already satisfied: tinycss2 in ./.venv/lib/python3.9/site-packages (from nbconvert->jupyter-tabnine) (1.3.0)\n",
      "Requirement already satisfied: beautifulsoup4 in ./.venv/lib/python3.9/site-packages (from nbconvert->jupyter-tabnine) (4.12.3)\n",
      "Requirement already satisfied: jupyterlab-pygments in ./.venv/lib/python3.9/site-packages (from nbconvert->jupyter-tabnine) (0.3.0)\n",
      "Requirement already satisfied: defusedxml in ./.venv/lib/python3.9/site-packages (from nbconvert->jupyter-tabnine) (0.7.1)\n",
      "Requirement already satisfied: webencodings in ./.venv/lib/python3.9/site-packages (from bleach!=5.0.0->nbconvert->jupyter-tabnine) (0.5.1)\n",
      "Requirement already satisfied: six>=1.9.0 in ./.venv/lib/python3.9/site-packages (from bleach!=5.0.0->nbconvert->jupyter-tabnine) (1.16.0)\n",
      "Requirement already satisfied: fastjsonschema>=2.15 in ./.venv/lib/python3.9/site-packages (from nbformat>=5.3.0->jupyter-server<3,>=2.4.0->notebook>=4.2->jupyter-tabnine) (2.20.0)\n",
      "Requirement already satisfied: ptyprocess>=0.5 in ./.venv/lib/python3.9/site-packages (from pexpect>4.3->ipython->jupyter-tabnine) (0.7.0)\n",
      "Requirement already satisfied: wcwidth in ./.venv/lib/python3.9/site-packages (from prompt-toolkit<3.1.0,>=3.0.41->ipython->jupyter-tabnine) (0.2.13)\n",
      "Requirement already satisfied: charset-normalizer<4,>=2 in ./.venv/lib/python3.9/site-packages (from requests>=2.31->jupyterlab-server<3,>=2.27.1->notebook>=4.2->jupyter-tabnine) (3.3.2)\n",
      "Requirement already satisfied: urllib3<3,>=1.21.1 in ./.venv/lib/python3.9/site-packages (from requests>=2.31->jupyterlab-server<3,>=2.27.1->notebook>=4.2->jupyter-tabnine) (2.2.3)\n",
      "Requirement already satisfied: cffi>=1.0.1 in ./.venv/lib/python3.9/site-packages (from argon2-cffi-bindings->argon2-cffi>=21.1->jupyter-server<3,>=2.4.0->notebook>=4.2->jupyter-tabnine) (1.17.1)\n",
      "Requirement already satisfied: pycparser in ./.venv/lib/python3.9/site-packages (from cffi>=1.0.1->argon2-cffi-bindings->argon2-cffi>=21.1->jupyter-server<3,>=2.4.0->notebook>=4.2->jupyter-tabnine) (2.22)\n",
      "Requirement already satisfied: soupsieve>1.2 in ./.venv/lib/python3.9/site-packages (from beautifulsoup4->nbconvert->jupyter-tabnine) (2.6)\n",
      "Requirement already satisfied: arrow>=0.15.0 in ./.venv/lib/python3.9/site-packages (from isoduration->jsonschema[format-nongpl]>=4.18.0->jupyter-events>=0.9.0->jupyter-server<3,>=2.4.0->notebook>=4.2->jupyter-tabnine) (1.3.0)\n",
      "Requirement already satisfied: types-python-dateutil>=2.8.10 in ./.venv/lib/python3.9/site-packages (from arrow>=0.15.0->isoduration->jsonschema[format-nongpl]>=4.18.0->jupyter-events>=0.9.0->jupyter-server<3,>=2.4.0->notebook>=4.2->jupyter-tabnine) (2.9.0.20241003)\n",
      "Requirement already satisfied: pure-eval in ./.venv/lib/python3.9/site-packages (from stack-data->ipython->jupyter-tabnine) (0.2.3)\n",
      "Requirement already satisfied: asttokens>=2.1.0 in ./.venv/lib/python3.9/site-packages (from stack-data->ipython->jupyter-tabnine) (2.4.1)\n",
      "Requirement already satisfied: executing>=1.2.0 in ./.venv/lib/python3.9/site-packages (from stack-data->ipython->jupyter-tabnine) (2.1.0)\n",
      "\u001b[33mWARNING: You are using pip version 21.2.4; however, version 24.2 is available.\n",
      "You should consider upgrading via the '/Users/alindsplayground/PycharmProjects/SparkML/.venv/bin/python3 -m pip install --upgrade pip' command.\u001b[0m\n"
     ]
    }
   ],
   "source": [
    "!pip3 install jupyter-tabnine\n",
    "#from pyspark.sql.functions import mono"
   ]
  },
  {
   "cell_type": "code",
   "execution_count": null,
   "id": "97100639-2c29-4571-b30e-3cd93a54ddd1",
   "metadata": {},
   "outputs": [],
   "source": []
  },
  {
   "cell_type": "code",
   "execution_count": 9,
   "id": "bfc33c53-7b5e-400f-98c2-5d98051e00b0",
   "metadata": {},
   "outputs": [
    {
     "name": "stdout",
     "output_type": "stream",
     "text": [
      "usage: jupyter [-h] [--version] [--config-dir] [--data-dir] [--runtime-dir]\n",
      "               [--paths] [--json] [--debug]\n",
      "               [subcommand]\n",
      "\n",
      "Jupyter: Interactive Computing\n",
      "\n",
      "positional arguments:\n",
      "  subcommand     the subcommand to launch\n",
      "\n",
      "optional arguments:\n",
      "  -h, --help     show this help message and exit\n",
      "  --version      show the versions of core jupyter packages and exit\n",
      "  --config-dir   show Jupyter config dir\n",
      "  --data-dir     show Jupyter data dir\n",
      "  --runtime-dir  show Jupyter runtime dir\n",
      "  --paths        show all Jupyter paths. Add --json for machine-readable\n",
      "                 format.\n",
      "  --json         output paths as machine-readable json\n",
      "  --debug        output debug information about paths\n",
      "\n",
      "Available subcommands: console dejavu events execute kernel kernelspec lab\n",
      "labextension labhub migrate nbconvert notebook run server troubleshoot trust\n",
      "\n",
      "Jupyter command `jupyter-nbextension` not found.\n",
      "usage: jupyter [-h] [--version] [--config-dir] [--data-dir] [--runtime-dir]\n",
      "               [--paths] [--json] [--debug]\n",
      "               [subcommand]\n",
      "\n",
      "Jupyter: Interactive Computing\n",
      "\n",
      "positional arguments:\n",
      "  subcommand     the subcommand to launch\n",
      "\n",
      "optional arguments:\n",
      "  -h, --help     show this help message and exit\n",
      "  --version      show the versions of core jupyter packages and exit\n",
      "  --config-dir   show Jupyter config dir\n",
      "  --data-dir     show Jupyter data dir\n",
      "  --runtime-dir  show Jupyter runtime dir\n",
      "  --paths        show all Jupyter paths. Add --json for machine-readable\n",
      "                 format.\n",
      "  --json         output paths as machine-readable json\n",
      "  --debug        output debug information about paths\n",
      "\n",
      "Available subcommands: console dejavu events execute kernel kernelspec lab\n",
      "labextension labhub migrate nbconvert notebook run server troubleshoot trust\n",
      "\n",
      "Jupyter command `jupyter-nbextension` not found.\n"
     ]
    }
   ],
   "source": [
    "!jupyter nbextension install --py jupyter_tabnine\n",
    "!jupyter nbextension enable --py jupyter_tabnine\n"
   ]
  },
  {
   "cell_type": "code",
   "execution_count": 10,
   "id": "c33567ea-2c25-447f-bca2-c522f72871a1",
   "metadata": {},
   "outputs": [
    {
     "name": "stdout",
     "output_type": "stream",
     "text": [
      "+---+---------+--------+------------------+-----------+--------------+----------+----------+-------------+------------------+---------------+\n",
      "| id|longitude|latitude|housing_median_age|total_rooms|total_bedrooms|population|households|median_income|median_house_value|ocean_proximity|\n",
      "+---+---------+--------+------------------+-----------+--------------+----------+----------+-------------+------------------+---------------+\n",
      "|  0|  -122.23|   37.88|              41.0|      880.0|         129.0|     322.0|     126.0|       8.3252|          452600.0|       NEAR BAY|\n",
      "|  1|  -122.22|   37.86|              21.0|     7099.0|        1106.0|    2401.0|    1138.0|       8.3014|          358500.0|       NEAR BAY|\n",
      "|  2|  -122.24|   37.85|              52.0|     1467.0|         190.0|     496.0|     177.0|       7.2574|          352100.0|       NEAR BAY|\n",
      "|  3|  -122.25|   37.85|              52.0|     1274.0|         235.0|     558.0|     219.0|       5.6431|          341300.0|       NEAR BAY|\n",
      "|  4|  -122.25|   37.85|              52.0|     1627.0|         280.0|     565.0|     259.0|       3.8462|          342200.0|       NEAR BAY|\n",
      "|  5|  -122.25|   37.85|              52.0|      919.0|         213.0|     413.0|     193.0|       4.0368|          269700.0|       NEAR BAY|\n",
      "|  6|  -122.25|   37.84|              52.0|     2535.0|         489.0|    1094.0|     514.0|       3.6591|          299200.0|       NEAR BAY|\n",
      "|  7|  -122.25|   37.84|              52.0|     3104.0|         687.0|    1157.0|     647.0|         3.12|          241400.0|       NEAR BAY|\n",
      "|  8|  -122.26|   37.84|              42.0|     2555.0|         665.0|    1206.0|     595.0|       2.0804|          226700.0|       NEAR BAY|\n",
      "|  9|  -122.25|   37.84|              52.0|     3549.0|         707.0|    1551.0|     714.0|       3.6912|          261100.0|       NEAR BAY|\n",
      "| 10|  -122.26|   37.85|              52.0|     2202.0|         434.0|     910.0|     402.0|       3.2031|          281500.0|       NEAR BAY|\n",
      "| 11|  -122.26|   37.85|              52.0|     3503.0|         752.0|    1504.0|     734.0|       3.2705|          241800.0|       NEAR BAY|\n",
      "| 12|  -122.26|   37.85|              52.0|     2491.0|         474.0|    1098.0|     468.0|        3.075|          213500.0|       NEAR BAY|\n",
      "| 13|  -122.26|   37.84|              52.0|      696.0|         191.0|     345.0|     174.0|       2.6736|          191300.0|       NEAR BAY|\n",
      "| 14|  -122.26|   37.85|              52.0|     2643.0|         626.0|    1212.0|     620.0|       1.9167|          159200.0|       NEAR BAY|\n",
      "| 15|  -122.26|   37.85|              50.0|     1120.0|         283.0|     697.0|     264.0|        2.125|          140000.0|       NEAR BAY|\n",
      "| 16|  -122.27|   37.85|              52.0|     1966.0|         347.0|     793.0|     331.0|        2.775|          152500.0|       NEAR BAY|\n",
      "| 17|  -122.27|   37.85|              52.0|     1228.0|         293.0|     648.0|     303.0|       2.1202|          155500.0|       NEAR BAY|\n",
      "| 18|  -122.26|   37.84|              50.0|     2239.0|         455.0|     990.0|     419.0|       1.9911|          158700.0|       NEAR BAY|\n",
      "| 19|  -122.27|   37.84|              52.0|     1503.0|         298.0|     690.0|     275.0|       2.6033|          162900.0|       NEAR BAY|\n",
      "+---+---------+--------+------------------+-----------+--------------+----------+----------+-------------+------------------+---------------+\n",
      "only showing top 20 rows\n",
      "\n"
     ]
    }
   ],
   "source": [
    "from pyspark.sql import functions as F\n",
    "\n",
    "df=df.withColumn(\"id\",F.monotonically_increasing_id())\n",
    "\n",
    "df=df[['id']+ df.columns[:-1]]\n",
    "df.show()"
   ]
  },
  {
   "cell_type": "code",
   "execution_count": 11,
   "id": "bece49de-688e-40f9-b4d1-b50f82dfeedc",
   "metadata": {},
   "outputs": [
    {
     "name": "stdout",
     "output_type": "stream",
     "text": [
      "+------------------+\n",
      "|  avg(total_rooms)|\n",
      "+------------------+\n",
      "|2635.7630813953488|\n",
      "+------------------+\n",
      "\n"
     ]
    }
   ],
   "source": [
    "df.select('total_rooms').agg({'total_rooms':'avg'}).show()"
   ]
  },
  {
   "cell_type": "code",
   "execution_count": 12,
   "id": "e0f18d61-567a-4f9a-a5a8-3df53704625b",
   "metadata": {},
   "outputs": [
    {
     "name": "stdout",
     "output_type": "stream",
     "text": [
      "+-------+-------------------+----------------+-----------------------+------------------+-------------------+------------------+-----------------+------------------+-----------------------+--------------------+\n",
      "|avg(id)|     avg(longitude)|   avg(latitude)|avg(housing_median_age)|  avg(total_rooms)|avg(total_bedrooms)|   avg(population)|  avg(households)|avg(median_income)|avg(median_house_value)|avg(ocean_proximity)|\n",
      "+-------+-------------------+----------------+-----------------------+------------------+-------------------+------------------+-----------------+------------------+-----------------------+--------------------+\n",
      "|10319.5|-119.56970445736148|35.6318614341087|     28.639486434108527|2635.7630813953488|  537.8705525375618|1425.4767441860465|499.5396802325581|3.8706710029070246|     206855.81690891474|                NULL|\n",
      "+-------+-------------------+----------------+-----------------------+------------------+-------------------+------------------+-----------------+------------------+-----------------------+--------------------+\n",
      "\n"
     ]
    }
   ],
   "source": [
    "df.select(*[F.mean(c) for c in df.columns]).show()"
   ]
  },
  {
   "cell_type": "code",
   "execution_count": 13,
   "id": "3a606de6-dede-409f-a3ac-140ec61ed801",
   "metadata": {},
   "outputs": [
    {
     "name": "stdout",
     "output_type": "stream",
     "text": [
      "+---------------+------------------+------------------+-------------------+------------------+------------------+-----------------------+-----------------------+\n",
      "|ocean_proximity|   avg(households)|   avg(population)|avg(total_bedrooms)|avg(median_income)|  avg(total_rooms)|avg(median_house_value)|avg(housing_median_age)|\n",
      "+---------------+------------------+------------------+-------------------+------------------+------------------+-----------------------+-----------------------+\n",
      "|         ISLAND|             276.6|             668.0|              420.4|2.7444200000000003|            1574.6|               380440.0|                   42.4|\n",
      "|     NEAR OCEAN|501.24454477050415|1354.0086531226486|  538.6156773211568| 4.005784800601957| 2583.700902934537|     249433.97742663656|     29.347253574115875|\n",
      "|       NEAR BAY| 488.6161572052402|1230.3174672489083|  514.1828193832599| 4.172884759825336| 2493.589519650655|     259212.31179039303|      37.73013100436681|\n",
      "|      <1H OCEAN| 517.7449649737302|1520.2904991243433|  546.5391852999778|4.2306819176882655|2628.3435858143607|     240084.28546409807|     29.279225043782837|\n",
      "|         INLAND|477.44756525721266|1391.0462524805373|  533.8816194581281| 3.208996382231716|2717.7427873607085|     124805.39200122119|      24.27186689055106|\n",
      "+---------------+------------------+------------------+-------------------+------------------+------------------+-----------------------+-----------------------+\n",
      "\n"
     ]
    }
   ],
   "source": [
    "df.groupBy('ocean_proximity').agg({col:'avg' for  col in df.columns[3:-1]}).show(5)"
   ]
  },
  {
   "cell_type": "code",
   "execution_count": 14,
   "id": "8bdf7a38-952e-46d1-aa80-d569d4775303",
   "metadata": {},
   "outputs": [
    {
     "name": "stdout",
     "output_type": "stream",
     "text": [
      "+---+---------+--------+------------------+-----------+--------------+----------+----------+-------------+------------------+---------------+-----------------+\n",
      "| id|longitude|latitude|housing_median_age|total_rooms|total_bedrooms|population|households|median_income|median_house_value|ocean_proximity|total_room_square|\n",
      "+---+---------+--------+------------------+-----------+--------------+----------+----------+-------------+------------------+---------------+-----------------+\n",
      "|  0|  -122.23|   37.88|              41.0|      880.0|         129.0|     322.0|     126.0|       8.3252|          452600.0|       NEAR BAY|         774400.0|\n",
      "|  1|  -122.22|   37.86|              21.0|     7099.0|        1106.0|    2401.0|    1138.0|       8.3014|          358500.0|       NEAR BAY|        5.03958E7|\n",
      "|  2|  -122.24|   37.85|              52.0|     1467.0|         190.0|     496.0|     177.0|       7.2574|          352100.0|       NEAR BAY|        2152089.0|\n",
      "|  3|  -122.25|   37.85|              52.0|     1274.0|         235.0|     558.0|     219.0|       5.6431|          341300.0|       NEAR BAY|        1623076.0|\n",
      "|  4|  -122.25|   37.85|              52.0|     1627.0|         280.0|     565.0|     259.0|       3.8462|          342200.0|       NEAR BAY|        2647129.0|\n",
      "+---+---------+--------+------------------+-----------+--------------+----------+----------+-------------+------------------+---------------+-----------------+\n",
      "only showing top 5 rows\n",
      "\n"
     ]
    }
   ],
   "source": [
    "from pyspark.sql.types import FloatType\n",
    "from pyspark.sql.functions import udf\n",
    "\n",
    "def square(value):\n",
    "    return value* value\n",
    "\n",
    "squared_udf=udf(square,FloatType())\n",
    "\n",
    "df.withColumn(\"total_room_square\",squared_udf('total_rooms')).show(5)"
   ]
  },
  {
   "cell_type": "code",
   "execution_count": 15,
   "id": "cb34680b-9354-474a-a3f5-e3e35309e95d",
   "metadata": {},
   "outputs": [
    {
     "name": "stdout",
     "output_type": "stream",
     "text": [
      "+---+---------+--------+------------------+-----------+--------------+----------+----------+-------------+------------------+---------------+\n",
      "| id|longitude|latitude|housing_median_age|total_rooms|total_bedrooms|population|households|median_income|median_house_value|ocean_proximity|\n",
      "+---+---------+--------+------------------+-----------+--------------+----------+----------+-------------+------------------+---------------+\n",
      "|  0|  -122.23|   37.88|              41.0|      880.0|         129.0|     322.0|     126.0|       8.3252|          452600.0|       NEAR BAY|\n",
      "|  1|  -122.22|   37.86|              21.0|     7099.0|        1106.0|    2401.0|    1138.0|       8.3014|          358500.0|       NEAR BAY|\n",
      "|  2|  -122.24|   37.85|              52.0|     1467.0|         190.0|     496.0|     177.0|       7.2574|          352100.0|       NEAR BAY|\n",
      "|  3|  -122.25|   37.85|              52.0|     1274.0|         235.0|     558.0|     219.0|       5.6431|          341300.0|       NEAR BAY|\n",
      "|  4|  -122.25|   37.85|              52.0|     1627.0|         280.0|     565.0|     259.0|       3.8462|          342200.0|       NEAR BAY|\n",
      "+---+---------+--------+------------------+-----------+--------------+----------+----------+-------------+------------------+---------------+\n",
      "only showing top 5 rows\n",
      "\n"
     ]
    }
   ],
   "source": [
    "df.show(5)"
   ]
  },
  {
   "cell_type": "code",
   "execution_count": 16,
   "id": "d3acde1e-262f-4f13-bfb5-ef2e3a1ce896",
   "metadata": {},
   "outputs": [
    {
     "data": {
      "text/plain": [
       "(DataFrame[id: bigint, longitude: double, latitude: double, housing_median_age: double, total_rooms: double, total_bedrooms: double, population: double, households: double, median_income: double, median_house_value: double, ocean_proximity: string],\n",
       " DataFrame[id: bigint, longitude: double, latitude: double, housing_median_age: double, total_rooms: double, total_bedrooms: double, population: double, households: double, median_income: double, median_house_value: double, ocean_proximity: string])"
      ]
     },
     "execution_count": 16,
     "metadata": {},
     "output_type": "execute_result"
    }
   ],
   "source": [
    "train,test= df.randomSplit([.7,.3])\n",
    "train,test"
   ]
  },
  {
   "cell_type": "code",
   "execution_count": 20,
   "id": "02304b9e-af3a-4e5b-bfcf-c388704c29b9",
   "metadata": {},
   "outputs": [
    {
     "data": {
      "text/plain": [
       "['longitude',\n",
       " 'latitude',\n",
       " 'housing_median_age',\n",
       " 'total_rooms',\n",
       " 'total_bedrooms',\n",
       " 'population',\n",
       " 'households',\n",
       " 'median_income']"
      ]
     },
     "execution_count": 20,
     "metadata": {},
     "output_type": "execute_result"
    }
   ],
   "source": [
    "#df.columns\n",
    "excludeList=['id','median_house_value','ocean_proximity']\n",
    "numerical_col_list=[x for x in train.columns if not x in excludeList] \n",
    "numerical_col_list"
   ]
  },
  {
   "cell_type": "code",
   "execution_count": 22,
   "id": "f32d1caf-39a2-477a-9e54-2b499bb6a0cb",
   "metadata": {},
   "outputs": [
    {
     "name": "stdout",
     "output_type": "stream",
     "text": [
      "+---+---------+--------+------------------+-----------+--------------+----------+----------+-------------+------------------+---------------+\n",
      "| id|longitude|latitude|housing_median_age|total_rooms|total_bedrooms|population|households|median_income|median_house_value|ocean_proximity|\n",
      "+---+---------+--------+------------------+-----------+--------------+----------+----------+-------------+------------------+---------------+\n",
      "|  0|  -122.23|   37.88|              41.0|      880.0|         129.0|     322.0|     126.0|       8.3252|          452600.0|       NEAR BAY|\n",
      "|  1|  -122.22|   37.86|              21.0|     7099.0|        1106.0|    2401.0|    1138.0|       8.3014|          358500.0|       NEAR BAY|\n",
      "|  2|  -122.24|   37.85|              52.0|     1467.0|         190.0|     496.0|     177.0|       7.2574|          352100.0|       NEAR BAY|\n",
      "+---+---------+--------+------------------+-----------+--------------+----------+----------+-------------+------------------+---------------+\n",
      "only showing top 3 rows\n",
      "\n"
     ]
    }
   ],
   "source": [
    "from pyspark.ml.feature import Imputer\n",
    "\n",
    "imputer=Imputer(inputCols=numerical_col_list,outputCols=numerical_col_list)\n",
    "\n",
    "imputer=imputer.fit(train)\n",
    "\n",
    "train=imputer.transform(train)\n",
    "test=imputer.transform(test)\n",
    "\n",
    "train.show(3)"
   ]
  },
  {
   "cell_type": "code",
   "execution_count": 26,
   "id": "855aceb1-4506-405e-a270-77e28b645ccf",
   "metadata": {},
   "outputs": [
    {
     "name": "stdout",
     "output_type": "stream",
     "text": [
      "+---+---------+--------+------------------+-----------+--------------+----------+----------+-------------+------------------+---------------+------------------------+\n",
      "| id|longitude|latitude|housing_median_age|total_rooms|total_bedrooms|population|households|median_income|median_house_value|ocean_proximity|numerical_vector_feature|\n",
      "+---+---------+--------+------------------+-----------+--------------+----------+----------+-------------+------------------+---------------+------------------------+\n",
      "|  0|  -122.23|   37.88|              41.0|      880.0|         129.0|     322.0|     126.0|       8.3252|          452600.0|       NEAR BAY|    [-122.23,37.88,41...|\n",
      "|  1|  -122.22|   37.86|              21.0|     7099.0|        1106.0|    2401.0|    1138.0|       8.3014|          358500.0|       NEAR BAY|    [-122.22,37.86,21...|\n",
      "|  2|  -122.24|   37.85|              52.0|     1467.0|         190.0|     496.0|     177.0|       7.2574|          352100.0|       NEAR BAY|    [-122.24,37.85,52...|\n",
      "+---+---------+--------+------------------+-----------+--------------+----------+----------+-------------+------------------+---------------+------------------------+\n",
      "only showing top 3 rows\n",
      "\n"
     ]
    }
   ],
   "source": [
    "from pyspark.ml.feature import VectorAssembler\n",
    "va=VectorAssembler(inputCols=numerical_col_list,outputCol='numerical_vector_feature')\n",
    "\n",
    "train=va.transform(train)\n",
    "\n",
    "train.show(3)\n"
   ]
  },
  {
   "cell_type": "code",
   "execution_count": 28,
   "id": "5d96f0eb-859c-4bc3-ac88-1493e7a324fa",
   "metadata": {},
   "outputs": [],
   "source": [
    "test=va.transform(test)"
   ]
  },
  {
   "cell_type": "code",
   "execution_count": 27,
   "id": "da3dbad9-bf35-4bd9-a87e-6fce5cca20f3",
   "metadata": {},
   "outputs": [
    {
     "data": {
      "text/plain": [
       "[Row(numerical_vector_feature=DenseVector([-122.23, 37.88, 41.0, 880.0, 129.0, 322.0, 126.0, 8.3252])),\n",
       " Row(numerical_vector_feature=DenseVector([-122.22, 37.86, 21.0, 7099.0, 1106.0, 2401.0, 1138.0, 8.3014]))]"
      ]
     },
     "execution_count": 27,
     "metadata": {},
     "output_type": "execute_result"
    }
   ],
   "source": [
    "train.select('numerical_vector_feature').take(2)"
   ]
  },
  {
   "cell_type": "code",
   "execution_count": 29,
   "id": "320c1eb5-6860-4e50-b007-985541e13fcf",
   "metadata": {},
   "outputs": [
    {
     "ename": "AttributeError",
     "evalue": "'StandardScalerModel' object has no attribute 'test'",
     "output_type": "error",
     "traceback": [
      "\u001b[0;31m---------------------------------------------------------------------------\u001b[0m",
      "\u001b[0;31mAttributeError\u001b[0m                            Traceback (most recent call last)",
      "Cell \u001b[0;32mIn[29], line 8\u001b[0m\n\u001b[1;32m      5\u001b[0m scalar\u001b[38;5;241m=\u001b[39mss\u001b[38;5;241m.\u001b[39mfit(train)\n\u001b[1;32m      7\u001b[0m train\u001b[38;5;241m=\u001b[39mscalar\u001b[38;5;241m.\u001b[39mtransform(train)\n\u001b[0;32m----> 8\u001b[0m test\u001b[38;5;241m=\u001b[39m\u001b[43mscalar\u001b[49m\u001b[38;5;241;43m.\u001b[39;49m\u001b[43mtest\u001b[49m(test)\n",
      "\u001b[0;31mAttributeError\u001b[0m: 'StandardScalerModel' object has no attribute 'test'"
     ]
    }
   ],
   "source": [
    "from pyspark.ml.feature import StandardScaler\n",
    "\n",
    "ss=StandardScaler(inputCol='numerical_vector_feature',outputCol='scaled_numerical_vector_feature',withStd=True,withMean=True)\n",
    "\n",
    "scalar=ss.fit(train)\n",
    "\n",
    "train=scalar.transform(train)\n"
   ]
  },
  {
   "cell_type": "code",
   "execution_count": 30,
   "id": "9144bcb1-2fbc-45c5-90fb-a0e5890e429a",
   "metadata": {},
   "outputs": [],
   "source": [
    "test=scalar.transform(test)"
   ]
  },
  {
   "cell_type": "code",
   "execution_count": 31,
   "id": "656c68dd-065b-412d-9e89-98835ed5f7af",
   "metadata": {},
   "outputs": [
    {
     "data": {
      "text/plain": [
       "[Row(indexer_ocean_proximity=3.0), Row(indexer_ocean_proximity=3.0)]"
      ]
     },
     "execution_count": 31,
     "metadata": {},
     "output_type": "execute_result"
    }
   ],
   "source": [
    "from pyspark.ml.feature import StringIndexer\n",
    "\n",
    "si=StringIndexer(inputCol='ocean_proximity',outputCol='indexer_ocean_proximity')\n",
    "\n",
    "si=si.fit(train)\n",
    "train=si.transform(train)\n",
    "test=si.transform(test)\n",
    "\n",
    "train.select('indexer_ocean_proximity').take(2)\n",
    "\n"
   ]
  },
  {
   "cell_type": "code",
   "execution_count": 33,
   "id": "8b689f33-442a-40d3-b714-e71699cb48ea",
   "metadata": {},
   "outputs": [
    {
     "data": {
      "text/plain": [
       "[Row(ocean_proximity_one_hot=SparseVector(4, {3: 1.0})),\n",
       " Row(ocean_proximity_one_hot=SparseVector(4, {3: 1.0}))]"
      ]
     },
     "execution_count": 33,
     "metadata": {},
     "output_type": "execute_result"
    }
   ],
   "source": [
    "from pyspark.ml.feature import OneHotEncoder\n",
    "\n",
    "ohe=OneHotEncoder(inputCol='indexer_ocean_proximity',outputCol='ocean_proximity_one_hot')\n",
    "\n",
    "ohe=ohe.fit(train)\n",
    "train=ohe.transform(train)\n",
    "test=ohe.transform(test)\n",
    "\n",
    "test.select('ocean_proximity_one_hot').take(2)\n",
    "\n",
    "\n"
   ]
  },
  {
   "cell_type": "code",
   "execution_count": 34,
   "id": "4373b897-1ea4-4809-98d0-d287aa9a20af",
   "metadata": {},
   "outputs": [
    {
     "ename": "AttributeError",
     "evalue": "'VectorAssembler' object has no attribute 'train'",
     "output_type": "error",
     "traceback": [
      "\u001b[0;31m---------------------------------------------------------------------------\u001b[0m",
      "\u001b[0;31mAttributeError\u001b[0m                            Traceback (most recent call last)",
      "Cell \u001b[0;32mIn[34], line 4\u001b[0m\n\u001b[1;32m      1\u001b[0m vectorAssemble\u001b[38;5;241m=\u001b[39mVectorAssembler(inputCols\u001b[38;5;241m=\u001b[39m[\u001b[38;5;124m'\u001b[39m\u001b[38;5;124mscaled_numerical_vector_feature\u001b[39m\u001b[38;5;124m'\u001b[39m,\u001b[38;5;124m'\u001b[39m\u001b[38;5;124mocean_proximity_one_hot\u001b[39m\u001b[38;5;124m'\u001b[39m],\n\u001b[1;32m      2\u001b[0m                                outputCol\u001b[38;5;241m=\u001b[39m\u001b[38;5;124m'\u001b[39m\u001b[38;5;124mfinal_feature_vector\u001b[39m\u001b[38;5;124m'\u001b[39m)\n\u001b[1;32m      3\u001b[0m test\u001b[38;5;241m=\u001b[39mvectorAssemble\u001b[38;5;241m.\u001b[39mtransform(test)\n\u001b[0;32m----> 4\u001b[0m train\u001b[38;5;241m=\u001b[39m\u001b[43mvectorAssemble\u001b[49m\u001b[38;5;241;43m.\u001b[39;49m\u001b[43mtrain\u001b[49m(train)\n\u001b[1;32m      6\u001b[0m test\u001b[38;5;241m.\u001b[39mselect(\u001b[38;5;124m'\u001b[39m\u001b[38;5;124mfinal_feature_vector\u001b[39m\u001b[38;5;124m'\u001b[39m)\u001b[38;5;241m.\u001b[39mtake(\u001b[38;5;241m2\u001b[39m)\n",
      "\u001b[0;31mAttributeError\u001b[0m: 'VectorAssembler' object has no attribute 'train'"
     ]
    }
   ],
   "source": [
    "vectorAssemble=VectorAssembler(inputCols=['scaled_numerical_vector_feature','ocean_proximity_one_hot'],\n",
    "                               outputCol='final_feature_vector')\n",
    "test=vectorAssemble.transform(test)\n"
   ]
  },
  {
   "cell_type": "code",
   "execution_count": 35,
   "id": "c575c609-8a6c-48f7-8c9f-bc5dcfcafacd",
   "metadata": {},
   "outputs": [
    {
     "data": {
      "text/plain": [
       "[Row(final_feature_vector=DenseVector([-1.3351, 1.0381, 1.8479, -0.616, -0.7135, -0.7677, -0.7244, 0.9295, 0.0, 0.0, 0.0, 1.0])),\n",
       " Row(final_feature_vector=DenseVector([-1.3351, 1.0381, 1.8479, -0.7761, -0.7652, -0.8961, -0.7914, 0.0875, 0.0, 0.0, 0.0, 1.0]))]"
      ]
     },
     "execution_count": 35,
     "metadata": {},
     "output_type": "execute_result"
    }
   ],
   "source": [
    "train=vectorAssemble.transform(train)\n",
    "\n",
    "test.select('final_feature_vector').take(2)"
   ]
  },
  {
   "cell_type": "code",
   "execution_count": 36,
   "id": "707150dc-a875-460e-9307-ef696458c0bc",
   "metadata": {},
   "outputs": [],
   "source": [
    "from pyspark.ml.regression import LinearRegression\n",
    "\n",
    "lr=LinearRegression(featuresCol='final_feature_vector',\n",
    "                    labelCol='median_house_value')\n",
    "\n"
   ]
  },
  {
   "cell_type": "code",
   "execution_count": 37,
   "id": "2251b966-f36d-4e48-97ec-bc7a4b8a4606",
   "metadata": {},
   "outputs": [
    {
     "name": "stderr",
     "output_type": "stream",
     "text": [
      "24/10/07 02:18:22 WARN Instrumentation: [044f10a9] regParam is zero, which might cause numerical instability and overfitting.\n",
      "24/10/07 02:18:22 WARN InstanceBuilder: Failed to load implementation from:dev.ludovic.netlib.blas.JNIBLAS\n",
      "24/10/07 02:18:22 WARN InstanceBuilder: Failed to load implementation from:dev.ludovic.netlib.blas.VectorBLAS\n",
      "24/10/07 02:18:23 WARN InstanceBuilder: Failed to load implementation from:dev.ludovic.netlib.lapack.JNILAPACK\n"
     ]
    },
    {
     "name": "stdout",
     "output_type": "stream",
     "text": [
      "+---+---------+--------+------------------+-----------+--------------+----------+----------+-------------+------------------+---------------+------------------------+-------------------------------+-----------------------+-----------------------+--------------------+------------------+\n",
      "| id|longitude|latitude|housing_median_age|total_rooms|total_bedrooms|population|households|median_income|median_house_value|ocean_proximity|numerical_vector_feature|scaled_numerical_vector_feature|indexer_ocean_proximity|ocean_proximity_one_hot|final_feature_vector|        prediction|\n",
      "+---+---------+--------+------------------+-----------+--------------+----------+----------+-------------+------------------+---------------+------------------------+-------------------------------+-----------------------+-----------------------+--------------------+------------------+\n",
      "|  0|  -122.23|   37.88|              41.0|      880.0|         129.0|     322.0|     126.0|       8.3252|          452600.0|       NEAR BAY|    [-122.23,37.88,41...|           [-1.3251086690256...|                    3.0|          (4,[3],[1.0])|[-1.3251086690256...| 405923.2932992894|\n",
      "|  1|  -122.22|   37.86|              21.0|     7099.0|        1106.0|    2401.0|    1138.0|       8.3014|          358500.0|       NEAR BAY|    [-122.22,37.86,21...|           [-1.3201225096243...|                    3.0|          (4,[3],[1.0])|[-1.3201225096243...| 426032.3325483982|\n",
      "|  2|  -122.24|   37.85|              52.0|     1467.0|         190.0|     496.0|     177.0|       7.2574|          352100.0|       NEAR BAY|    [-122.24,37.85,52...|           [-1.3300948284269...|                    3.0|          (4,[3],[1.0])|[-1.3300948284269...|377081.34945391864|\n",
      "|  4|  -122.25|   37.85|              52.0|     1627.0|         280.0|     565.0|     259.0|       3.8462|          342200.0|       NEAR BAY|    [-122.25,37.85,52...|           [-1.3350809878282...|                    3.0|          (4,[3],[1.0])|[-1.3350809878282...| 256775.3502933474|\n",
      "|  6|  -122.25|   37.84|              52.0|     2535.0|         489.0|    1094.0|     514.0|       3.6591|          299200.0|       NEAR BAY|    [-122.25,37.84,52...|           [-1.3350809878282...|                    3.0|          (4,[3],[1.0])|[-1.3350809878282...|259315.64564808886|\n",
      "+---+---------+--------+------------------+-----------+--------------+----------+----------+-------------+------------------+---------------+------------------------+-------------------------------+-----------------------+-----------------------+--------------------+------------------+\n",
      "only showing top 5 rows\n",
      "\n"
     ]
    }
   ],
   "source": [
    "lr=lr.fit(train)\n",
    "pred_train=lr.transform(train).withColumnRenamed('predection','predecited_house_value')\n",
    "pred_train.show(5)"
   ]
  },
  {
   "cell_type": "code",
   "execution_count": 38,
   "id": "d0e170b5-6202-4e09-9bf7-d4c80f0637d9",
   "metadata": {},
   "outputs": [
    {
     "name": "stdout",
     "output_type": "stream",
     "text": [
      "+---+---------+--------+------------------+-----------+--------------+----------+----------+-------------+------------------+---------------+------------------------+-------------------------------+-----------------------+-----------------------+--------------------+------------------+\n",
      "| id|longitude|latitude|housing_median_age|total_rooms|total_bedrooms|population|households|median_income|median_house_value|ocean_proximity|numerical_vector_feature|scaled_numerical_vector_feature|indexer_ocean_proximity|ocean_proximity_one_hot|final_feature_vector|        prediction|\n",
      "+---+---------+--------+------------------+-----------+--------------+----------+----------+-------------+------------------+---------------+------------------------+-------------------------------+-----------------------+-----------------------+--------------------+------------------+\n",
      "|  3|  -122.25|   37.85|              52.0|     1274.0|         235.0|     558.0|     219.0|       5.6431|          341300.0|       NEAR BAY|    [-122.25,37.85,52...|           [-1.3350809878282...|                    3.0|          (4,[3],[1.0])|[-1.3350809878282...| 320007.0647601321|\n",
      "|  5|  -122.25|   37.85|              52.0|      919.0|         213.0|     413.0|     193.0|       4.0368|          269700.0|       NEAR BAY|    [-122.25,37.85,52...|           [-1.3350809878282...|                    3.0|          (4,[3],[1.0])|[-1.3350809878282...| 262473.1018283642|\n",
      "|  7|  -122.25|   37.84|              52.0|     3104.0|         687.0|    1157.0|     647.0|         3.12|          241400.0|       NEAR BAY|    [-122.25,37.84,52...|           [-1.3350809878282...|                    3.0|          (4,[3],[1.0])|[-1.3350809878282...|258308.08376474387|\n",
      "| 15|  -122.26|   37.85|              50.0|     1120.0|         283.0|     697.0|     264.0|        2.125|          140000.0|       NEAR BAY|    [-122.26,37.85,50...|           [-1.3400671472295...|                    3.0|          (4,[3],[1.0])|[-1.3400671472295...| 185437.1874836703|\n",
      "| 17|  -122.27|   37.85|              52.0|     1228.0|         293.0|     648.0|     303.0|       2.1202|          155500.0|       NEAR BAY|    [-122.27,37.85,52...|           [-1.3450533066308...|                    3.0|          (4,[3],[1.0])|[-1.3450533066308...|193452.64445808844|\n",
      "+---+---------+--------+------------------+-----------+--------------+----------+----------+-------------+------------------+---------------+------------------------+-------------------------------+-----------------------+-----------------------+--------------------+------------------+\n",
      "only showing top 5 rows\n",
      "\n"
     ]
    }
   ],
   "source": [
    "pred_test=lr.transform(test).withColumnRenamed('predection','predecited_house_value')\n",
    "pred_test.show(5)"
   ]
  },
  {
   "cell_type": "code",
   "execution_count": 42,
   "id": "f702c68d-cac6-4010-a253-c6457a882288",
   "metadata": {},
   "outputs": [
    {
     "name": "stdout",
     "output_type": "stream",
     "text": [
      "+-----------------+------------------+\n",
      "|       prediction|median_house_value|\n",
      "+-----------------+------------------+\n",
      "|405923.2932992894|          452600.0|\n",
      "|426032.3325483982|          358500.0|\n",
      "+-----------------+------------------+\n",
      "only showing top 2 rows\n",
      "\n"
     ]
    }
   ],
   "source": [
    "actual_and_predicted= pred_train[['prediction','median_house_value']]\n",
    "actual_and_predicted.show(2)"
   ]
  },
  {
   "cell_type": "code",
   "execution_count": 45,
   "id": "1efab1bc-85a6-43d6-8d73-1b0bb873121d",
   "metadata": {},
   "outputs": [],
   "source": [
    "actual_and_predicted_rdd=actual_and_predicted.rdd\n",
    "actual_and_predicted_tuple=actual_and_predicted_rdd.map(tuple)"
   ]
  },
  {
   "cell_type": "code",
   "execution_count": 49,
   "id": "4a287ccc-1582-4c6b-a746-7d9c717894c5",
   "metadata": {},
   "outputs": [
    {
     "name": "stderr",
     "output_type": "stream",
     "text": [
      "/Users/alindsplayground/PycharmProjects/SparkML/.venv/lib/python3.9/site-packages/pyspark/sql/context.py:158: FutureWarning: Deprecated in 3.0.0. Use SparkSession.builder.getOrCreate() instead.\n",
      "  warnings.warn(\n"
     ]
    },
    {
     "data": {
      "text/plain": [
       "(49912.682984750616, 68451.53563775758, 4685612731.167195, 0.64715158890219)"
      ]
     },
     "execution_count": 49,
     "metadata": {},
     "output_type": "execute_result"
    }
   ],
   "source": [
    "from pyspark.mllib.evaluation import RegressionMetrics\n",
    "\n",
    "metrics=RegressionMetrics(actual_and_predicted_tuple)\n",
    "metrics.meanAbsoluteError,metrics.rootMeanSquaredError,metrics.meanSquaredError,metrics.r2"
   ]
  }
 ],
 "metadata": {
  "kernelspec": {
   "display_name": "Python 3 (ipykernel)",
   "language": "python",
   "name": "python3"
  },
  "language_info": {
   "codemirror_mode": {
    "name": "ipython",
    "version": 3
   },
   "file_extension": ".py",
   "mimetype": "text/x-python",
   "name": "python",
   "nbconvert_exporter": "python",
   "pygments_lexer": "ipython3",
   "version": "3.9.6"
  }
 },
 "nbformat": 4,
 "nbformat_minor": 5
}
